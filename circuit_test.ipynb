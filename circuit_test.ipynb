{
 "cells": [
  {
   "cell_type": "code",
   "execution_count": 30,
   "metadata": {
    "collapsed": true,
    "ExecuteTime": {
     "start_time": "2023-06-19T19:26:28.076386Z",
     "end_time": "2023-06-19T19:26:28.095487Z"
    }
   },
   "outputs": [],
   "source": [
    "import PySpice.Logging.Logging as Logging\n",
    "import matplotlib\n",
    "\n",
    "logger = Logging.setup_logging()"
   ]
  },
  {
   "cell_type": "code",
   "execution_count": 31,
   "outputs": [],
   "source": [
    "from PySpice.Spice.Netlist import Circuit\n",
    "from PySpice.Unit import *"
   ],
   "metadata": {
    "collapsed": false,
    "ExecuteTime": {
     "start_time": "2023-06-19T19:26:28.331743Z",
     "end_time": "2023-06-19T19:26:28.345315Z"
    }
   }
  },
  {
   "cell_type": "code",
   "execution_count": 32,
   "outputs": [],
   "source": [
    "import numpy as np\n",
    "import matplotlib\n",
    "import matplotlib.pyplot as plt"
   ],
   "metadata": {
    "collapsed": false,
    "ExecuteTime": {
     "start_time": "2023-06-19T19:26:28.601724Z",
     "end_time": "2023-06-19T19:26:28.609773Z"
    }
   }
  },
  {
   "cell_type": "code",
   "execution_count": 33,
   "outputs": [],
   "source": [
    "matplotlib.rcParams.update({'font.size': 14,\n",
    "                            'text.usetex': True,\n",
    "                            'mathtext.fontset': 'cm',\n",
    "                            'mathtext.rm': 'serif'})"
   ],
   "metadata": {
    "collapsed": false,
    "ExecuteTime": {
     "start_time": "2023-06-19T19:26:29.153159Z",
     "end_time": "2023-06-19T19:26:29.171260Z"
    }
   }
  },
  {
   "cell_type": "code",
   "execution_count": 34,
   "outputs": [
    {
     "data": {
      "text/plain": "Resistor R3"
     },
     "execution_count": 34,
     "metadata": {},
     "output_type": "execute_result"
    }
   ],
   "source": [
    "circuit = Circuit('Voltage Divider')\n",
    "circuit.V(1, 'In', circuit.gnd, 10@u_V)\n",
    "circuit.R(1, 'In', 'Out', 4@u_kOhm)\n",
    "circuit.R(2, 'In', 'Out', 2@u_kOhm)\n",
    "circuit.R(3, 'Out', circuit.gnd, 2@u_kOhm)"
   ],
   "metadata": {
    "collapsed": false,
    "ExecuteTime": {
     "start_time": "2023-06-19T19:26:29.517132Z",
     "end_time": "2023-06-19T19:26:29.532214Z"
    }
   }
  },
  {
   "cell_type": "code",
   "execution_count": 35,
   "outputs": [],
   "source": [
    "for resistance in (circuit.R1, circuit.R2):\n",
    "    resistance.minus.add_current_probe(circuit)"
   ],
   "metadata": {
    "collapsed": false,
    "ExecuteTime": {
     "start_time": "2023-06-19T19:26:29.975122Z",
     "end_time": "2023-06-19T19:26:29.980151Z"
    }
   }
  },
  {
   "cell_type": "code",
   "execution_count": 36,
   "outputs": [
    {
     "name": "stdout",
     "output_type": "stream",
     "text": [
      ".title Voltage Divider\r\n",
      "V1 In 0 10V\r\n",
      "R1 In R1_minus 4kOhm\r\n",
      "R2 In R2_minus 2kOhm\r\n",
      "R3 Out 0 2kOhm\r\n",
      "VR1_minus Out R1_minus 0\r\n",
      "VR2_minus Out R2_minus 0\r\n",
      ".options TEMP = 25C\r\n",
      ".options TNOM = 25C\r\n",
      ".end\r\n",
      "\n"
     ]
    }
   ],
   "source": [
    "simulator = circuit.simulator(temperature=25, nominal_temperature=25)\n",
    "print(simulator)"
   ],
   "metadata": {
    "collapsed": false,
    "ExecuteTime": {
     "start_time": "2023-06-19T19:26:30.354196Z",
     "end_time": "2023-06-19T19:26:30.370790Z"
    }
   }
  },
  {
   "cell_type": "code",
   "execution_count": 37,
   "outputs": [
    {
     "name": "stdout",
     "output_type": "stream",
     "text": [
      "Node v1: -3.0 mA\n",
      "Node vr1_minus: -1.0 mA\n",
      "Node vr2_minus: -2.0 mA\n"
     ]
    }
   ],
   "source": [
    "analysis = simulator.operating_point()\n",
    "for node in analysis.branches.values():\n",
    "    print(f'Node {str(node)}: {round(float(node)*10**3, 4)} mA')"
   ],
   "metadata": {
    "collapsed": false,
    "ExecuteTime": {
     "start_time": "2023-06-19T19:26:30.689022Z",
     "end_time": "2023-06-19T19:26:30.710136Z"
    }
   }
  },
  {
   "cell_type": "code",
   "execution_count": null,
   "outputs": [],
   "source": [],
   "metadata": {
    "collapsed": false
   }
  }
 ],
 "metadata": {
  "kernelspec": {
   "display_name": "Python 3",
   "language": "python",
   "name": "python3"
  },
  "language_info": {
   "codemirror_mode": {
    "name": "ipython",
    "version": 2
   },
   "file_extension": ".py",
   "mimetype": "text/x-python",
   "name": "python",
   "nbconvert_exporter": "python",
   "pygments_lexer": "ipython2",
   "version": "2.7.6"
  }
 },
 "nbformat": 4,
 "nbformat_minor": 0
}
